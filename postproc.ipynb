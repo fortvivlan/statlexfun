{
 "cells": [
  {
   "cell_type": "markdown",
   "id": "6792c27b",
   "metadata": {},
   "source": [
    "A notebook to draw some plots; you may need to create folders (or add mkdir command which I was too lazy to do)"
   ]
  },
  {
   "cell_type": "code",
   "execution_count": 1,
   "id": "db5f8527-2450-4cdd-b92e-ff9cbe511745",
   "metadata": {},
   "outputs": [],
   "source": [
    "import pickle\n",
    "import re\n",
    "import matplotlib.pyplot as plt\n",
    "import numpy as np\n",
    "from collections import Counter, defaultdict\n",
    "from scipy.interpolate import make_interp_spline, BSpline"
   ]
  },
  {
   "cell_type": "code",
   "execution_count": 5,
   "id": "5ac16270-6419-4985-91a3-bdcb785ea1c5",
   "metadata": {},
   "outputs": [],
   "source": [
    "import nltk\n",
    "from nltk.corpus import stopwords"
   ]
  },
  {
   "cell_type": "code",
   "execution_count": 8,
   "id": "4700d37f-f0ba-495f-b5fe-cb001a1b4c08",
   "metadata": {},
   "outputs": [],
   "source": [
    "russian_stopwords = set(stopwords.words(\"russian\"))"
   ]
  },
  {
   "cell_type": "code",
   "execution_count": 2,
   "id": "96dc2e8d-3a1d-4afc-8bcf-d4fd1ab0caca",
   "metadata": {},
   "outputs": [],
   "source": [
    "data = pickle.load(open('bigresult.bin', 'rb'))"
   ]
  },
  {
   "cell_type": "code",
   "execution_count": 3,
   "id": "fc587cde",
   "metadata": {},
   "outputs": [],
   "source": [
    "yeardata = defaultdict(Counter)\n",
    "\n",
    "for key, value in data.items():\n",
    "    yeardata[value[1]] += value[0]"
   ]
  },
  {
   "cell_type": "code",
   "execution_count": 4,
   "id": "6cec8162",
   "metadata": {},
   "outputs": [],
   "source": [
    "yearwordcounts = dict()\n",
    "for key, value in yeardata.items():\n",
    "    yearwordcounts[key] = sum(value.values())"
   ]
  },
  {
   "cell_type": "code",
   "execution_count": 5,
   "id": "bdf15880",
   "metadata": {},
   "outputs": [],
   "source": [
    "all = sorted(yearwordcounts.items())\n",
    "x = [el[0] for el in all]\n",
    "# summ = sum(x[1] for x in all)\n",
    "y = [el[1] for el in all]\n",
    "del all"
   ]
  },
  {
   "cell_type": "code",
   "execution_count": 6,
   "id": "29298925",
   "metadata": {},
   "outputs": [
    {
     "data": {
      "image/png": "[encoded data removed]",
      "text/plain": [
       "<Figure size 1656x720 with 1 Axes>"
      ]
     },
     "metadata": {
      "needs_background": "light"
     },
     "output_type": "display_data"
    }
   ],
   "source": [
    "plt.figure(figsize=(23, 10))\n",
    "ax1 = plt.subplot()\n",
    "ax1.set_xticks(x)\n",
    "ax1.set_xticklabels(x)\n",
    "ax1 = plt.bar(x, y, color='limegreen')\n",
    "plt.savefig('yearcounts_unbalanced.png', bbox_inches='tight')\n",
    "plt.show()"
   ]
  },
  {
   "cell_type": "code",
   "execution_count": 48,
   "id": "43b3f2c4-fdba-4130-a775-174a7aa936c2",
   "metadata": {},
   "outputs": [],
   "source": [
    "with open('by_year_dicts.txt', 'w', encoding='utf8') as file:\n",
    "    for key, value in sorted(yeardata.items()):\n",
    "        print(key, file=file)\n",
    "        longest = max(len(x[0]) for x in value.keys())\n",
    "        c = 1\n",
    "        for k, v in sorted(value.items(), key=lambda x: (-x[1], x[0])):\n",
    "            if k[1] != 'PUNCT':\n",
    "                print(f'{c:>6}. {k[0]:<{longest}} {k[1]:<6} {v:>6}', file=file)\n",
    "                c += 1\n",
    "        print(file=file)"
   ]
  },
  {
   "cell_type": "code",
   "execution_count": 49,
   "id": "a83ba8a2",
   "metadata": {},
   "outputs": [],
   "source": [
    "with open('by_year_dicts_most_freq.txt', 'w', encoding='utf8') as file:\n",
    "    for key, value in sorted(yeardata.items()):\n",
    "        print(key, file=file)\n",
    "        longest = max(len(x[0]) for x in value.keys())\n",
    "        c = 1\n",
    "        for k, v in sorted(value.items(), key=lambda x: (-x[1], x[0]))[:100]:\n",
    "            if k[1] != 'PUNCT':\n",
    "                print(f'{c:>3}. {k[0]:<{longest}} {k[1]:<6} {v:>6}', file=file)\n",
    "                c += 1\n",
    "        print(file=file)"
   ]
  },
  {
   "cell_type": "code",
   "execution_count": 5,
   "id": "786bc6cf",
   "metadata": {},
   "outputs": [],
   "source": [
    "puncts = {}\n",
    "for key, value in yeardata.items():\n",
    "    d = {}\n",
    "    for k, v in value.items():\n",
    "        if k[1] == 'PUNCT':\n",
    "            kre = re.sub(r'!{3,}', '!!!!', k[0])\n",
    "            kre = re.sub(r'\\?{3,}', '????', kre)\n",
    "            d[kre] = v\n",
    "    puncts[key] = d"
   ]
  },
  {
   "cell_type": "code",
   "execution_count": 158,
   "id": "182ff979",
   "metadata": {},
   "outputs": [],
   "source": [
    "all = sorted(puncts.items())"
   ]
  },
  {
   "cell_type": "code",
   "execution_count": null,
   "id": "0f544c3f",
   "metadata": {},
   "outputs": [],
   "source": [
    "for k, v in all:\n",
    "    print(k)\n",
    "    lst = sorted(v.items())\n",
    "    s = sum(e[1] for e in lst)\n",
    "    x = [e[0] for e in lst]\n",
    "    y = [e[1]/s * 100 for e in lst]\n",
    "    plt.figure(figsize=(30, 15))\n",
    "    plt.tick_params(axis='both', which='major', labelsize=20)\n",
    "    plt.bar(x, y, color='darkslategray')\n",
    "    plt.savefig(f'yearpuncts/{k}.png', bbox_inches='tight')\n",
    "    plt.show()"
   ]
  },
  {
   "cell_type": "code",
   "execution_count": null,
   "id": "33069286",
   "metadata": {},
   "outputs": [],
   "source": [
    "print(puncts)"
   ]
  },
  {
   "cell_type": "code",
   "execution_count": 6,
   "id": "96e25aab",
   "metadata": {},
   "outputs": [],
   "source": [
    "for k in puncts:\n",
    "    for p in puncts[k]:\n",
    "        puncts[k][p] = puncts[k][p] / yearwordcounts[k] * 1e6"
   ]
  },
  {
   "cell_type": "code",
   "execution_count": 7,
   "id": "c460d396",
   "metadata": {},
   "outputs": [],
   "source": [
    "punctrev = defaultdict(dict)\n",
    "for key, value in puncts.items():\n",
    "    for k, v in value.items():\n",
    "        if k == '(':\n",
    "            k = ')'\n",
    "        if k == '-' or k == '–':\n",
    "            k = '—'\n",
    "        if k == '«' or k == '\"':\n",
    "            k = '»'\n",
    "        if k in {',', '.', '—', '...', '!', '?', ':', ')', ';', '?!', '?!!', '!..', '?..', '?!..', '»'}:\n",
    "            if key in punctrev[k]:\n",
    "                punctrev[k][key] += v\n",
    "            else:\n",
    "                punctrev[k][key] = v"
   ]
  },
  {
   "cell_type": "code",
   "execution_count": null,
   "id": "bdd15bb2",
   "metadata": {},
   "outputs": [],
   "source": [
    "punctrev.keys()\n",
    "names = {}\n",
    "for k in punctrev.keys():\n",
    "    names[k] = input(f'{k} > ')\n",
    "names"
   ]
  },
  {
   "cell_type": "code",
   "execution_count": null,
   "id": "fc8eedb3",
   "metadata": {},
   "outputs": [],
   "source": [
    "def unctname(pun):\n",
    "    names = {',': 'запятая',\n",
    "    '.': 'точка',\n",
    "    '—': 'm dash',\n",
    "    '...': 'многоточие',\n",
    "    '!': 'восклицательный знак',\n",
    "    '?': 'вопросительный знак',\n",
    "    ':': 'двоеточие',\n",
    "    ')': 'скобки',\n",
    "    ';': 'точка с запятой',\n",
    "    '?!': 'вопросительный и восклицательный знак',\n",
    "    '»': 'кавычки',\n",
    "    '?!!': 'вопросительный и два восклицательных знака',\n",
    "    '!..': 'восклицательный знак и две точки',\n",
    "    '?..': 'вопросительный знак и две точки',\n",
    "    '?!..': 'вопросительный, восклицательный знак и две точки'}\n",
    "    return names[pun]\n",
    "    \n",
    "\n",
    "for k, v in punctrev.items():\n",
    "    print(k)\n",
    "    lst = sorted(v.items())\n",
    "    x = [e[0] for e in lst]\n",
    "    y = [e[1] for e in lst]\n",
    "    plt.figure(figsize=(30, 15))\n",
    "    plt.tick_params(axis='both', which='major', labelsize=20)\n",
    "    plt.title(k)\n",
    "    ax1 = plt.subplot()\n",
    "    ax1.set_xticks(x)\n",
    "    ax1.set_xticklabels(x)\n",
    "    xnew = np.linspace(min(x), max(x), 300)  \n",
    "    spl = make_interp_spline(x, y, k=3)  # type: BSpline\n",
    "    power_smooth = spl(xnew)\n",
    "    ax1 = plt.plot(xnew, power_smooth, color='steelblue')\n",
    "    plt.savefig(f'puncts/{unctname(k)}.png', bbox_inches='tight')\n",
    "    plt.show()"
   ]
  },
  {
   "cell_type": "code",
   "execution_count": null,
   "id": "7f30d3d6",
   "metadata": {},
   "outputs": [],
   "source": [
    "plt.figure(figsize=(40, 30))\n",
    "plt.tick_params(axis='both', which='major', labelsize=20)\n",
    "colors = ['maroon', 'tomato', 'sandybrown', 'gold', 'darkkhaki', \n",
    "'greenyellow', 'palegreen', 'seagreen', 'darkslategray', 'steelblue', \n",
    "'midnightblue', 'slateblue', 'blueviolet', 'plum', 'palevioletred']\n",
    "for item, color in zip(punctrev.items(), colors):\n",
    "    lst = sorted(item[1].items())\n",
    "    x = [e[0] for e in lst]\n",
    "    y = [e[1] for e in lst]\n",
    "    xnew = np.linspace(min(x), max(x), 300)  \n",
    "    spl = make_interp_spline(x, y, k=3)  # type: BSpline\n",
    "    power_smooth = spl(xnew)\n",
    "    plt.plot(xnew, power_smooth, color=color, label=item[0])\n",
    "plt.legend(prop={'size': 16})\n",
    "plt.show()\n"
   ]
  },
  {
   "cell_type": "code",
   "execution_count": 171,
   "id": "da9309f9",
   "metadata": {},
   "outputs": [],
   "source": [
    "various = {}\n",
    "for key, value in yeardata.items():\n",
    "    d = {}\n",
    "    for k, v in value.items():\n",
    "        if k[0] in {'мужчина', 'женщина', 'девушка', 'парень', 'девочка', 'мальчик', 'муж', 'жена'}:\n",
    "            d[k[0]] = v / yearwordcounts[key] * 1e6\n",
    "    various[key] = d"
   ]
  },
  {
   "cell_type": "code",
   "execution_count": 172,
   "id": "6a0d946a",
   "metadata": {},
   "outputs": [],
   "source": [
    "variousrev = defaultdict(dict)\n",
    "for key, value in various.items():\n",
    "    for k, v in value.items():\n",
    "        variousrev[k][key] = v"
   ]
  },
  {
   "cell_type": "code",
   "execution_count": null,
   "id": "79b0494c",
   "metadata": {},
   "outputs": [],
   "source": [
    "plt.figure(figsize=(40, 30))\n",
    "plt.tick_params(axis='both', which='major', labelsize=20)\n",
    "colors = ['maroon', 'tomato', 'sandybrown', 'gold', 'darkkhaki', \n",
    "'greenyellow', 'palegreen', 'seagreen', 'darkslategray', 'steelblue', \n",
    "'midnightblue', 'slateblue', 'blueviolet', 'plum', 'palevioletred']\n",
    "for item, color in zip(variousrev.items(), colors):\n",
    "    lst = sorted(item[1].items())\n",
    "    x = [e[0] for e in lst]\n",
    "    y = [e[1] for e in lst]\n",
    "    xnew = np.linspace(min(x), max(x), 300)  \n",
    "    spl = make_interp_spline(x, y, k=3)  # type: BSpline\n",
    "    power_smooth = spl(xnew)\n",
    "    plt.plot(xnew, power_smooth, color=color, label=item[0])\n",
    "plt.legend(prop={'size': 16})\n",
    "plt.show()"
   ]
  }
 ],
 "metadata": {
  "kernelspec": {
   "display_name": "Python 3 (ipykernel)",
   "language": "python",
   "name": "python3"
  },
  "language_info": {
   "codemirror_mode": {
    "name": "ipython",
    "version": 3
   },
   "file_extension": ".py",
   "mimetype": "text/x-python",
   "name": "python",
   "nbconvert_exporter": "python",
   "pygments_lexer": "ipython3",
   "version": "3.8.10"
  }
 },
 "nbformat": 4,
 "nbformat_minor": 5
}
